{
  "nbformat": 4,
  "nbformat_minor": 0,
  "metadata": {
    "colab": {
      "name": "Assignment_8(PCA).ipynb",
      "provenance": [],
      "collapsed_sections": []
    },
    "kernelspec": {
      "name": "python3",
      "display_name": "Python 3"
    },
    "language_info": {
      "name": "python"
    }
  },
  "cells": [
    {
      "cell_type": "code",
      "source": [
        "import pandas as pd\n",
        "import numpy as np\n",
        "import matplotlib.pyplot as plt\n",
        "import seaborn as sns\n",
        "from sklearn.decomposition import PCA\n",
        "from sklearn.preprocessing import scale"
      ],
      "metadata": {
        "id": "qociCELSyGki"
      },
      "execution_count": null,
      "outputs": []
    },
    {
      "cell_type": "code",
      "source": [
        "wine=pd.read_csv('wine.csv')\n",
        "wine"
      ],
      "metadata": {
        "id": "c6dgeZmdzcUK"
      },
      "execution_count": null,
      "outputs": []
    },
    {
      "cell_type": "code",
      "source": [
        "wine['Type'].value_counts()"
      ],
      "metadata": {
        "id": "FlpE55Kzzk1f"
      },
      "execution_count": null,
      "outputs": []
    },
    {
      "cell_type": "code",
      "source": [
        "wine2=wine.iloc[:,1:]\n",
        "wine2"
      ],
      "metadata": {
        "id": "bJObGSOEzv4X"
      },
      "execution_count": null,
      "outputs": []
    },
    {
      "cell_type": "code",
      "source": [
        "wine2.shape"
      ],
      "metadata": {
        "id": "alvquQZe0mND"
      },
      "execution_count": null,
      "outputs": []
    },
    {
      "cell_type": "code",
      "source": [
        "wine2.info()"
      ],
      "metadata": {
        "id": "AAEcP2dy0pWT"
      },
      "execution_count": null,
      "outputs": []
    },
    {
      "cell_type": "code",
      "source": [
        "wine_ary=wine2.values\n",
        "wine_ary"
      ],
      "metadata": {
        "id": "9xwdfQxl0rl2"
      },
      "execution_count": null,
      "outputs": []
    },
    {
      "cell_type": "code",
      "source": [
        "wine_norm=scale(wine_ary)\n",
        "wine_norm"
      ],
      "metadata": {
        "id": "8MnO2W7A0uQO"
      },
      "execution_count": null,
      "outputs": []
    },
    {
      "cell_type": "markdown",
      "source": [
        "**PCA Implementation**"
      ],
      "metadata": {
        "id": "3JjSlo4700Ro"
      }
    },
    {
      "cell_type": "code",
      "source": [
        "pca=PCA(n_components=13)\n",
        "\n",
        "wine_pca=pca.fit_transform(wine_norm)\n",
        "wine_pca"
      ],
      "metadata": {
        "id": "NHVGafLJ0wVC"
      },
      "execution_count": null,
      "outputs": []
    },
    {
      "cell_type": "code",
      "source": [
        "pca.components_"
      ],
      "metadata": {
        "id": "xGn-oV2d05nT"
      },
      "execution_count": null,
      "outputs": []
    },
    {
      "cell_type": "code",
      "source": [
        "var=pca.explained_variance_ratio_\n",
        "var"
      ],
      "metadata": {
        "id": "HoUUWIwN09Lb"
      },
      "execution_count": null,
      "outputs": []
    },
    {
      "cell_type": "code",
      "source": [
        "var1=np.cumsum(np.round(var,4)*100)\n",
        "var1"
      ],
      "metadata": {
        "id": "_sNylwAN0_2I"
      },
      "execution_count": null,
      "outputs": []
    },
    {
      "cell_type": "code",
      "source": [
        "plt.plot(var1,color='magenta')"
      ],
      "metadata": {
        "id": "d7-UJC3l1BrV"
      },
      "execution_count": null,
      "outputs": []
    },
    {
      "cell_type": "code",
      "source": [
        "final_df=pd.concat([wine['Type'],pd.DataFrame(wine_pca[:,0:3],columns=['PC1','PC2','PC3'])],axis=1)\n",
        "final_df"
      ],
      "metadata": {
        "id": "3lm8y6N61Ecw"
      },
      "execution_count": null,
      "outputs": []
    },
    {
      "cell_type": "code",
      "source": [
        "fig=plt.figure(figsize=(16,12))\n",
        "sns.scatterplot(data=final_df)"
      ],
      "metadata": {
        "id": "TJjV0--j1Gvn"
      },
      "execution_count": null,
      "outputs": []
    },
    {
      "cell_type": "markdown",
      "source": [
        "**Checking with other Clustering Algorithms**"
      ],
      "metadata": {
        "id": "DeuFW0V91OHc"
      }
    },
    {
      "cell_type": "markdown",
      "source": [
        "**1. Hierarchical Clustering**"
      ],
      "metadata": {
        "id": "TAd6yLuY1VBS"
      }
    },
    {
      "cell_type": "code",
      "source": [
        "import scipy.cluster.hierarchy as sch\n",
        "from sklearn.cluster import AgglomerativeClustering\n",
        "from sklearn.preprocessing import normalize"
      ],
      "metadata": {
        "id": "DreiqAqG1JYA"
      },
      "execution_count": null,
      "outputs": []
    },
    {
      "cell_type": "code",
      "source": [
        "plt.figure(figsize=(10,8))\n",
        "dendrogram=sch.dendrogram(sch.linkage(wine_norm,'complete'))"
      ],
      "metadata": {
        "id": "UcCfIg4M1aUk"
      },
      "execution_count": null,
      "outputs": []
    },
    {
      "cell_type": "code",
      "source": [
        "hclusters=AgglomerativeClustering(n_clusters=3,affinity='euclidean',linkage='ward')\n",
        "hclusters"
      ],
      "metadata": {
        "id": "Yf0W1Bec1c0T"
      },
      "execution_count": null,
      "outputs": []
    },
    {
      "cell_type": "code",
      "source": [
        "y=pd.DataFrame(hclusters.fit_predict(wine_norm),columns=['clustersid'])\n",
        "y['clustersid'].value_counts()"
      ],
      "metadata": {
        "id": "xK4ybPPs1g5b"
      },
      "execution_count": null,
      "outputs": []
    },
    {
      "cell_type": "code",
      "source": [
        "wine3=wine.copy()\n",
        "wine3['clustersid']=hclusters.labels_\n",
        "wine3"
      ],
      "metadata": {
        "id": "2SHunDPF1mar"
      },
      "execution_count": null,
      "outputs": []
    },
    {
      "cell_type": "markdown",
      "source": [
        "**2. K-Means Clustering**"
      ],
      "metadata": {
        "id": "JMtOoIEK1sN0"
      }
    },
    {
      "cell_type": "code",
      "source": [
        "from sklearn.cluster import KMeans"
      ],
      "metadata": {
        "id": "KtsKcBEV1ouk"
      },
      "execution_count": null,
      "outputs": []
    },
    {
      "cell_type": "code",
      "source": [
        "wcss=[]\n",
        "for i in range (1,6):\n",
        "    kmeans=KMeans(n_clusters=i,random_state=2)\n",
        "    kmeans.fit(wine_norm)\n",
        "    wcss.append(kmeans.inertia_)"
      ],
      "metadata": {
        "id": "kOyj6CUb1xH4"
      },
      "execution_count": null,
      "outputs": []
    },
    {
      "cell_type": "code",
      "source": [
        "plt.plot(range(1,6),wcss)\n",
        "plt.title('Elbow Graph')\n",
        "plt.xlabel('Number of clusters')\n",
        "plt.ylabel('WCSS')\n",
        "plt.show()"
      ],
      "metadata": {
        "id": "2zNfQK1S10SP"
      },
      "execution_count": null,
      "outputs": []
    },
    {
      "cell_type": "markdown",
      "source": [
        "**Build Cluster algorithm using K=3**"
      ],
      "metadata": {
        "id": "hOxIpbeb17fg"
      }
    },
    {
      "cell_type": "code",
      "source": [
        "clusters3=KMeans(3,random_state=30).fit(wine_norm)\n",
        "clusters3\n"
      ],
      "metadata": {
        "id": "GFkvcz4U136k"
      },
      "execution_count": null,
      "outputs": []
    },
    {
      "cell_type": "code",
      "source": [
        "clusters3.labels_"
      ],
      "metadata": {
        "id": "zbvKhWq_2CK-"
      },
      "execution_count": null,
      "outputs": []
    },
    {
      "cell_type": "code",
      "source": [
        "wine4=wine.copy()\n",
        "wine4['clusters3id']=clusters3.labels_\n",
        "wine4"
      ],
      "metadata": {
        "id": "dK-lojeD2EZG"
      },
      "execution_count": null,
      "outputs": []
    },
    {
      "cell_type": "code",
      "source": [
        "wine4['clusters3id'].value_counts()"
      ],
      "metadata": {
        "id": "QH8wfgS72HLP"
      },
      "execution_count": null,
      "outputs": []
    },
    {
      "cell_type": "code",
      "source": [
        ""
      ],
      "metadata": {
        "id": "G4HVa-bp2KrB"
      },
      "execution_count": null,
      "outputs": []
    }
  ]
}